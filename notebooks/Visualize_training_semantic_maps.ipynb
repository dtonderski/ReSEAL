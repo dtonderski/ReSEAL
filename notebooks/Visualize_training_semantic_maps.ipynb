{
 "cells": [
  {
   "cell_type": "code",
   "execution_count": 1,
   "metadata": {},
   "outputs": [
    {
     "name": "stdout",
     "output_type": "stream",
     "text": [
      "Jupyter environment detected. Enabling Open3D WebVisualizer.\n",
      "[Open3D INFO] WebRTC GUI backend enabled.\n",
      "[Open3D INFO] WebRTCWindowSystem: HTTP handshake server disabled.\n"
     ]
    }
   ],
   "source": [
    "from src.visualisation import instance_map_visualization\n",
    "from src.model.perception.labeler import LabelGenerator\n",
    "import os\n",
    "import pathlib\n",
    "import numpy as np\n",
    "from src.config import default_map_builder_cfg, default_map_processor_cfg, default_sensor_cfg\n",
    "from src.visualisation.semantic_map_visualization import visualize_categorical_label_map\n",
    "import _pickle as cPickle\n",
    "import open3d as o3d\n",
    "from src.utils import category_mapping"
   ]
  },
  {
   "cell_type": "code",
   "execution_count": 2,
   "metadata": {},
   "outputs": [
    {
     "name": "stdout",
     "output_type": "stream",
     "text": [
      "notebooks\n"
     ]
    }
   ],
   "source": [
    "if pathlib.PurePath(os.getcwd()).name == \"notebooks\":\n",
    "    print(pathlib.PurePath(os.getcwd()).name)\n",
    "    os.chdir(\"..\")\n"
   ]
  },
  {
   "cell_type": "code",
   "execution_count": 3,
   "metadata": {},
   "outputs": [],
   "source": [
    "epoch = 0\n",
    "id = \"00041-QKfBMSSy7Hy\"\n",
    "map_builder_path = f\"data/interim/trajectories/epoch_{epoch}/{id}/map_builder.pickle\"\n",
    "with open(map_builder_path, 'rb') as fp:\n",
    "    map_builder = cPickle.load(fp)"
   ]
  },
  {
   "cell_type": "code",
   "execution_count": 4,
   "metadata": {},
   "outputs": [],
   "source": [
    "plot_point_cloud = True\n",
    "\n",
    "if plot_point_cloud:\n",
    "    point_cloud = map_builder.point_cloud\n",
    "    point_cloud_semantic_labels = map_builder._master_point_cloud_semantic_labels\n",
    "\n",
    "    color_converter = category_mapping.get_reseal_index_to_color_vectorized()\n",
    "\n",
    "    point_cloud_categorical = np.argmax(point_cloud_semantic_labels, axis=-1) + (np.sum(\n",
    "        point_cloud_semantic_labels, axis=-1\n",
    "    ) > 0).astype(int)\n",
    "    # Need to initialize this as a 3 channel image so we can use numpy indexing to assign the points that have a label\n",
    "    # instead of having to loop over them\n",
    "    point_cloud_rgb = np.dstack([point_cloud_categorical] * 3)[0]\n",
    "    #point_cloud_rgb[point_cloud_categorical > 0] = color_converter(point_cloud_categorical[point_cloud_categorical > 0])\n",
    "\n",
    "    point_cloud_o3d = o3d.utility.Vector3dVector(point_cloud[point_cloud_categorical > 0])\n",
    "    pcd = o3d.geometry.PointCloud(point_cloud_o3d)\n",
    "    colour = color_converter(point_cloud_categorical[point_cloud_categorical > 0])\n",
    "    pcd.colors = o3d.utility.Vector3dVector(colour)\n",
    "    o3d.visualization.draw_geometries([pcd])"
   ]
  },
  {
   "cell_type": "code",
   "execution_count": 5,
   "metadata": {},
   "outputs": [],
   "source": [
    "label_generator = LabelGenerator(map_builder.semantic_map, map_builder.get_grid_index_of_origin(), default_map_builder_cfg(), default_map_processor_cfg(), default_sensor_cfg())"
   ]
  },
  {
   "cell_type": "code",
   "execution_count": 6,
   "metadata": {},
   "outputs": [
    {
     "data": {
      "application/vnd.jupyter.widget-view+json": {
       "model_id": "129356c2b1644aeba15f9949cffc716f",
       "version_major": 2,
       "version_minor": 0
      },
      "text/plain": [
       "Widget(value=\"<iframe src='http://localhost:43555/index.html?ui=P_0x7fb3b8df1f10_0&reconnect=auto' style='widt…"
      ]
     },
     "metadata": {},
     "output_type": "display_data"
    }
   ],
   "source": [
    "plotter = visualize_categorical_label_map(label_generator.categorical_label_map, opacity=0.1)\n",
    "\n",
    "# If nothing shows up, try changing jupyter_backend=\"trame\" to jupyter_backend=\"panel\"\n",
    "plotter.show()"
   ]
  },
  {
   "cell_type": "code",
   "execution_count": null,
   "metadata": {},
   "outputs": [],
   "source": []
  }
 ],
 "metadata": {
  "kernelspec": {
   "display_name": "habitat",
   "language": "python",
   "name": "python3"
  },
  "language_info": {
   "codemirror_mode": {
    "name": "ipython",
    "version": 3
   },
   "file_extension": ".py",
   "mimetype": "text/x-python",
   "name": "python",
   "nbconvert_exporter": "python",
   "pygments_lexer": "ipython3",
   "version": "3.9.16"
  },
  "orig_nbformat": 4
 },
 "nbformat": 4,
 "nbformat_minor": 2
}
