{
 "cells": [
  {
   "cell_type": "markdown",
   "metadata": {},
   "source": [
    "# MaskRCNN"
   ]
  },
  {
   "cell_type": "markdown",
   "metadata": {},
   "source": [
    "### Category mapping"
   ]
  },
  {
   "cell_type": "code",
   "execution_count": 1,
   "metadata": {},
   "outputs": [
    {
     "name": "stdout",
     "output_type": "stream",
     "text": [
      "                     maskcat\n",
      "raw_category                \n",
      "wall                    misc\n",
      "door                    misc\n",
      "ceiling                 misc\n",
      "floor                   misc\n",
      "picture                 misc\n",
      "...                      ...\n",
      "stringer                misc\n",
      "supporting structure    misc\n",
      "typewriter              misc\n",
      "walls                   misc\n",
      "washbasin top           misc\n",
      "\n",
      "[1659 rows x 1 columns]\n"
     ]
    }
   ],
   "source": [
    "from src.utils.category_mappings import load_hm3d_to_maskcat_mapping\n",
    "\n",
    "mapping = load_hm3d_to_maskcat_mapping()\n",
    "print(mapping)"
   ]
  },
  {
   "cell_type": "code",
   "execution_count": 2,
   "metadata": {},
   "outputs": [
    {
     "name": "stdout",
     "output_type": "stream",
     "text": [
      "           color    hm3d  room\n",
      "instance                      \n",
      "1         E83FC9   floor     0\n",
      "2         AC11D9    wall     0\n",
      "3         F8B27A    wall     0\n",
      "4         CBF148    wall     0\n",
      "5         53FC41    wall     0\n",
      "...          ...     ...   ...\n",
      "448       6B9D1D    sink    10\n",
      "449       6E9DB4    wall    10\n",
      "450       97C568    wall    10\n",
      "451       727359    wall    10\n",
      "452       B5EE76  mirror    10\n",
      "\n",
      "[452 rows x 3 columns]\n"
     ]
    }
   ],
   "source": [
    "import pandas as pd\n",
    "import numpy as np\n",
    "\n",
    "cat_map = pd.read_csv('./../data/raw/train/scene_datasets/hm3d/train/00006-HkseAnWCgqk/HkseAnWCgqk.semantic.txt', sep=',', skiprows=[0], names=['instance','color','hm3d', 'room']).set_index('instance')\n",
    "\n",
    "print(cat_map)"
   ]
  },
  {
   "cell_type": "code",
   "execution_count": 3,
   "metadata": {},
   "outputs": [
    {
     "name": "stdout",
     "output_type": "stream",
     "text": [
      "[[[0. 0. 0. 0. 0.]\n",
      "  [0. 0. 0. 0. 0.]\n",
      "  [0. 0. 0. 0. 0.]\n",
      "  [0. 0. 0. 0. 0.]\n",
      "  [0. 0. 0. 0. 0.]]\n",
      "\n",
      " [[0. 0. 0. 0. 0.]\n",
      "  [0. 0. 0. 0. 0.]\n",
      "  [0. 0. 1. 0. 0.]\n",
      "  [0. 0. 0. 0. 0.]\n",
      "  [0. 0. 0. 0. 0.]]\n",
      "\n",
      " [[0. 0. 0. 0. 0.]\n",
      "  [0. 0. 1. 0. 0.]\n",
      "  [0. 1. 1. 1. 0.]\n",
      "  [0. 0. 1. 0. 0.]\n",
      "  [0. 0. 0. 0. 0.]]\n",
      "\n",
      " [[0. 0. 0. 0. 0.]\n",
      "  [0. 0. 0. 0. 0.]\n",
      "  [0. 0. 1. 0. 0.]\n",
      "  [0. 0. 0. 0. 0.]\n",
      "  [0. 0. 0. 0. 0.]]\n",
      "\n",
      " [[0. 0. 0. 0. 0.]\n",
      "  [0. 0. 0. 0. 0.]\n",
      "  [0. 0. 0. 0. 0.]\n",
      "  [0. 0. 0. 0. 0.]\n",
      "  [0. 0. 0. 0. 0.]]]\n",
      "[[[0. 0. 0. 0. 0.]\n",
      "  [0. 0. 0. 0. 0.]\n",
      "  [0. 0. 1. 0. 0.]\n",
      "  [0. 0. 0. 0. 0.]\n",
      "  [0. 0. 0. 0. 0.]]\n",
      "\n",
      " [[0. 0. 0. 0. 0.]\n",
      "  [0. 0. 1. 0. 0.]\n",
      "  [0. 1. 1. 1. 0.]\n",
      "  [0. 0. 1. 0. 0.]\n",
      "  [0. 0. 0. 0. 0.]]\n",
      "\n",
      " [[0. 0. 1. 0. 0.]\n",
      "  [0. 1. 1. 1. 0.]\n",
      "  [1. 1. 1. 1. 1.]\n",
      "  [0. 1. 1. 1. 0.]\n",
      "  [0. 0. 1. 0. 0.]]\n",
      "\n",
      " [[0. 0. 0. 0. 0.]\n",
      "  [0. 0. 1. 0. 0.]\n",
      "  [0. 1. 1. 1. 0.]\n",
      "  [0. 0. 1. 0. 0.]\n",
      "  [0. 0. 0. 0. 0.]]\n",
      "\n",
      " [[0. 0. 0. 0. 0.]\n",
      "  [0. 0. 0. 0. 0.]\n",
      "  [0. 0. 1. 0. 0.]\n",
      "  [0. 0. 0. 0. 0.]\n",
      "  [0. 0. 0. 0. 0.]]]\n"
     ]
    }
   ],
   "source": [
    "from scipy.ndimage.morphology import binary_dilation\n",
    "\n",
    "arr = np.zeros((5,5,5))\n",
    "arr[2,2,2] = 6\n",
    "arr = binary_dilation(arr).astype(arr.dtype)\n",
    "print(arr)\n",
    "\n",
    "arr = binary_dilation(arr).astype(arr.dtype)\n",
    "print(arr)"
   ]
  }
 ],
 "metadata": {
  "kernelspec": {
   "display_name": "Python 3.7.16 ('habitat')",
   "language": "python",
   "name": "python3"
  },
  "language_info": {
   "codemirror_mode": {
    "name": "ipython",
    "version": 3
   },
   "file_extension": ".py",
   "mimetype": "text/x-python",
   "name": "python",
   "nbconvert_exporter": "python",
   "pygments_lexer": "ipython3",
   "version": "3.7.16"
  },
  "orig_nbformat": 4,
  "vscode": {
   "interpreter": {
    "hash": "334581d5fae70a3394a0b95016f9fd1a46cc109bef43a220fa0ce1a6eb571224"
   }
  }
 },
 "nbformat": 4,
 "nbformat_minor": 2
}
