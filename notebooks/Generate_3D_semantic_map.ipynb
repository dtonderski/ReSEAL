{
 "cells": [
  {
   "attachments": {},
   "cell_type": "markdown",
   "metadata": {},
   "source": [
    "# 3D Semantic Map Building\n",
    "In this notebook, we load the RGB-D images and poses generated from `Generate_trajectory.ipynb`, and build a 3D map"
   ]
  },
  {
   "cell_type": "code",
   "execution_count": 1,
   "metadata": {},
   "outputs": [
    {
     "name": "stdout",
     "output_type": "stream",
     "text": [
      "Jupyter environment detected. Enabling Open3D WebVisualizer.\n",
      "[Open3D INFO] WebRTC GUI backend enabled.\n",
      "[Open3D INFO] WebRTCWindowSystem: HTTP handshake server disabled.\n"
     ]
    }
   ],
   "source": [
    "import numpy as np\n",
    "from tqdm import tqdm\n",
    "import cv2\n",
    "import matplotlib.pyplot as plt\n",
    "import open3d as o3d\n",
    "\n",
    "from src.features.mapping import Geocentric3DMapBuilder\n",
    "from src.config import default_map_builder_cfg, default_sim_cfg"
   ]
  },
  {
   "cell_type": "code",
   "execution_count": 2,
   "metadata": {},
   "outputs": [],
   "source": [
    "sim_cfg = default_sim_cfg()\n",
    "map_builder_cfg = default_map_builder_cfg()\n",
    "map_builder_cfg.NUM_SEMANTIC_CLASSES = 3\n",
    "map_builder = Geocentric3DMapBuilder(map_builder_cfg, sim_cfg)\n"
   ]
  },
  {
   "cell_type": "code",
   "execution_count": 3,
   "metadata": {},
   "outputs": [],
   "source": [
    "TRAJECTORY = \"00001-UVdNNRcVyV1\"\n",
    "DEPTH_MAP_DIR = f\"../data/interim/trajectories/train/{TRAJECTORY}/D\"\n",
    "RGB_IMAGE_DIR = f\"../data/interim/trajectories/train/{TRAJECTORY}/RGB\"\n",
    "POSITIONS_FILE = f\"../data/interim/trajectories/train/{TRAJECTORY}/positions.npy\"\n",
    "ROTATIONS_FILE = f\"../data/interim/trajectories/train/{TRAJECTORY}/rotations.npy\""
   ]
  },
  {
   "cell_type": "code",
   "execution_count": 4,
   "metadata": {},
   "outputs": [
    {
     "name": "stderr",
     "output_type": "stream",
     "text": [
      "100%|██████████| 18/18 [00:00<00:00, 91.86it/s] \n"
     ]
    }
   ],
   "source": [
    "rotations = np.load(ROTATIONS_FILE).view(dtype=np.quaternion)\n",
    "positions = np.load(POSITIONS_FILE)\n",
    "\n",
    "map_builder.clear()\n",
    "for i in tqdm(range(18)):\n",
    "    depth_map = np.load(f\"{DEPTH_MAP_DIR}/{i}.npy\")\n",
    "    rgb_image = cv2.imread(f\"{RGB_IMAGE_DIR}/{i}.png\")\n",
    "    pose = (positions[i], rotations[i])\n",
    "    map_builder.update_point_cloud(rgb_image, depth_map, pose)"
   ]
  },
  {
   "cell_type": "code",
   "execution_count": 5,
   "metadata": {},
   "outputs": [],
   "source": [
    "pcd = map_builder.point_cloud\n",
    "o3d.visualization.draw_geometries([pcd])"
   ]
  }
 ],
 "metadata": {
  "kernelspec": {
   "display_name": "habitat",
   "language": "python",
   "name": "python3"
  },
  "language_info": {
   "codemirror_mode": {
    "name": "ipython",
    "version": 3
   },
   "file_extension": ".py",
   "mimetype": "text/x-python",
   "name": "python",
   "nbconvert_exporter": "python",
   "pygments_lexer": "ipython3",
   "version": "3.7.16"
  },
  "orig_nbformat": 4
 },
 "nbformat": 4,
 "nbformat_minor": 2
}
