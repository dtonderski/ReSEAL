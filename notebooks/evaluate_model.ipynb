{
 "cells": [
  {
   "cell_type": "code",
   "execution_count": 1,
   "metadata": {},
   "outputs": [],
   "source": [
    "import pathlib\n",
    "import os\n",
    "from yacs.config import CfgNode\n",
    "from src.model.perception.evaluation import get_ground_truth\n",
    "from src.model.perception.model_wrapper import ModelWrapper\n",
    "from src.model.perception.perception_pipeline_config import get_perception_cfg\n",
    "from src.data.MaskRCNNEvaluationDataset import MaskRCNNEvaluationDataset, eval_collate_fn\n",
    "from pathlib import Path\n",
    "from torch.utils.data import DataLoader\n",
    "import numpy as np\n"
   ]
  },
  {
   "cell_type": "code",
   "execution_count": 2,
   "metadata": {},
   "outputs": [
    {
     "name": "stdout",
     "output_type": "stream",
     "text": [
      "notebooks\n"
     ]
    }
   ],
   "source": [
    "if pathlib.PurePath(os.getcwd()).name == \"notebooks\":\n",
    "    print(pathlib.PurePath(os.getcwd()).name)\n",
    "    os.chdir(\"..\")"
   ]
  },
  {
   "cell_type": "code",
   "execution_count": 3,
   "metadata": {},
   "outputs": [],
   "source": [
    "perception_cfg = get_perception_cfg()\n",
    "perception_cfg.DATA_PATHS.TRAJECTORIES_DIR = str(Path(\n",
    "        perception_cfg.DATA_PATHS.INTERIM_DATA_DIR, \"trajectories\", \"23-06-11,16:09:05\"))\n",
    "\n",
    "eval_dataset = MaskRCNNEvaluationDataset(perception_cfg.DATA_PATHS, perception_cfg.DATA_GENERATOR.SPLIT, 0)\n",
    "eval_dataloader = DataLoader(eval_dataset,\n",
    "                                batch_size=8,\n",
    "                                shuffle=False,\n",
    "                                num_workers=perception_cfg.TRAINING.NUM_WORKERS,\n",
    "                                collate_fn=eval_collate_fn)\n",
    "\n"
   ]
  },
  {
   "cell_type": "code",
   "execution_count": 18,
   "metadata": {},
   "outputs": [],
   "source": [
    "model_config = CfgNode()\n",
    "model_config.USE_INITIAL_TRANSFORMS = True\n",
    "model_config.SCORE_THRESHOLD = 0.5\n",
    "model_config.MASK_THRESHOLD = 0.5\n",
    "model_config.TRAINABLE_BACKBONE_LAYERS = 0\n",
    "model = ModelWrapper(model_config, weights = \"models/MaskRCNN/model_ep4.pth\")\n",
    "model.cuda()"
   ]
  },
  {
   "cell_type": "code",
   "execution_count": 21,
   "metadata": {},
   "outputs": [
    {
     "name": "stderr",
     "output_type": "stream",
     "text": [
      "100%|██████████| 75/75 [00:23<00:00,  3.13it/s]\n"
     ]
    }
   ],
   "source": [
    "from tqdm import tqdm\n",
    "metrics = []\n",
    "weights = []\n",
    "\n",
    "for i, (images, semantics, semantic_info_paths) in enumerate(tqdm(eval_dataloader)):\n",
    "    ground_truths = [get_ground_truth(semantics[i], semantic_info_paths[i]) for i in range(len(images))]\n",
    "    mask = np.array([len(ground_truth['boxes']) for ground_truth in ground_truths]) > 0\n",
    "    if np.sum(mask) == 0:\n",
    "        continue\n",
    "    metrics.append(model.get_metrics(images[mask], [ground_truth for i, ground_truth in enumerate(ground_truths) if mask[i]]))\n",
    "    weights.append(np.sum(mask))"
   ]
  },
  {
   "cell_type": "code",
   "execution_count": 9,
   "metadata": {},
   "outputs": [
    {
     "data": {
      "text/plain": [
       "0.18502388905171316"
      ]
     },
     "execution_count": 9,
     "metadata": {},
     "output_type": "execute_result"
    }
   ],
   "source": [
    "# Epoch 0: 0.18502388905171316\n",
    "weights_np = np.array(weights)\n",
    "metrics_np = np.array(metrics)\n",
    "np.sum(weights_np*metrics_np)/np.sum(weights_np)"
   ]
  },
  {
   "cell_type": "code",
   "execution_count": 13,
   "metadata": {},
   "outputs": [
    {
     "data": {
      "text/plain": [
       "0.21526870020052308"
      ]
     },
     "execution_count": 13,
     "metadata": {},
     "output_type": "execute_result"
    }
   ],
   "source": [
    "# Epoch 1: 0.21526870020052308\n",
    "weights_np = np.array(weights)\n",
    "metrics_np = np.array(metrics)\n",
    "np.sum(weights_np*metrics_np)/np.sum(weights_np)"
   ]
  },
  {
   "cell_type": "code",
   "execution_count": 17,
   "metadata": {},
   "outputs": [
    {
     "data": {
      "text/plain": [
       "0.21901360952276788"
      ]
     },
     "execution_count": 17,
     "metadata": {},
     "output_type": "execute_result"
    }
   ],
   "source": [
    "# Epoch 2: 0.21901360952276788\n",
    "weights_np = np.array(weights)\n",
    "metrics_np = np.array(metrics)\n",
    "np.sum(weights_np*metrics_np)/np.sum(weights_np)"
   ]
  },
  {
   "cell_type": "code",
   "execution_count": 6,
   "metadata": {},
   "outputs": [
    {
     "data": {
      "text/plain": [
       "0.2544390270088473"
      ]
     },
     "execution_count": 6,
     "metadata": {},
     "output_type": "execute_result"
    }
   ],
   "source": [
    "# Epoch 3: 0.2544390270088473\n",
    "weights_np = np.array(weights)\n",
    "metrics_np = np.array(metrics)\n",
    "np.sum(weights_np*metrics_np)/np.sum(weights_np)"
   ]
  },
  {
   "cell_type": "code",
   "execution_count": null,
   "metadata": {},
   "outputs": [],
   "source": []
  }
 ],
 "metadata": {
  "kernelspec": {
   "display_name": "habitat",
   "language": "python",
   "name": "python3"
  },
  "language_info": {
   "codemirror_mode": {
    "name": "ipython",
    "version": 3
   },
   "file_extension": ".py",
   "mimetype": "text/x-python",
   "name": "python",
   "nbconvert_exporter": "python",
   "pygments_lexer": "ipython3",
   "version": "3.9.16"
  },
  "orig_nbformat": 4
 },
 "nbformat": 4,
 "nbformat_minor": 2
}
