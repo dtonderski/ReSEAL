{
 "cells": [
  {
   "cell_type": "code",
   "execution_count": 63,
   "metadata": {},
   "outputs": [],
   "source": [
    "import numpy as np\n",
    "import plotly.express as px\n",
    "import plotly.graph_objects as go\n",
    "from matplotlib import pyplot as plt\n",
    "from yacs.config import CfgNode\n",
    "\n",
    "from src.features.perception import get_ray_directions_world_coords, propagate_labels\n",
    "from src.features.raytracing import raytrace_3d\n",
    "from src.visualisation.map_visualisation import draw_voxels\n"
   ]
  },
  {
   "cell_type": "code",
   "execution_count": 105,
   "metadata": {},
   "outputs": [],
   "source": [
    "def sensor_cfg() -> CfgNode:\n",
    "    sensor_cfg = CfgNode()\n",
    "    sensor_cfg.WIDTH = 224 #px\n",
    "    sensor_cfg.HEIGHT = 224 #px\n",
    "    sensor_cfg.HFOV = 90 #deg\n",
    "    sensor_cfg.SENSOR_HEIGHT = 0.88 #m\n",
    "    return sensor_cfg\n",
    "\n",
    "def map_cfg():\n",
    "    cfg = CfgNode()\n",
    "    cfg.RESOLUTION = 1.0  # cm per pixel\n",
    "    cfg.EGOCENTRIC_MAP_SHAPE = (30,20,30)  # (x, y, z) in pixel\n",
    "    cfg.NUM_SEMANTIC_CLASSES = 5\n",
    "    cfg.SENSOR_CFG = sensor_cfg()\n",
    "    return cfg\n",
    "\n",
    "def generate_semantic_map(cfg, seed = None, p = 0.05, dtype = np.single):\n",
    "    rng = np.random.default_rng(seed)\n",
    "    grid_classes = rng.choice(np.arange(cfg.NUM_SEMANTIC_CLASSES), size = cfg.EGOCENTRIC_MAP_SHAPE)\n",
    "\n",
    "    grid_classes_onehot = np.zeros((grid_classes.size, grid_classes.max() + 1), dtype = dtype)\n",
    "    grid_classes_onehot[np.arange(grid_classes.size), grid_classes.flatten()] = 1\n",
    "    grid_classes_onehot = grid_classes_onehot.reshape(cfg.EGOCENTRIC_MAP_SHAPE + (cfg.NUM_SEMANTIC_CLASSES,))\n",
    "    \n",
    "    grid = np.zeros(cfg.EGOCENTRIC_MAP_SHAPE, dtype = dtype)\n",
    "    grid_flat = grid.flatten()\n",
    "    grid_flat[:int(p*grid_flat.size)] = 1\n",
    "    rng.shuffle(grid_flat)\n",
    "    grid = grid_flat.reshape(cfg.EGOCENTRIC_MAP_SHAPE)\n",
    "    grid_classes_onehot[np.invert(grid),:] = 0\n",
    "    semantic_map_3d = np.concatenate([np.expand_dims(grid, -1), grid_classes_onehot], axis = -1).astype(dtype)\n",
    "    return semantic_map_3d\n",
    "\n",
    "def generate_empty_semantic_map(cfg):\n",
    "    semantic_map_3d = np.zeros(cfg.EGOCENTRIC_MAP_SHAPE + (cfg.NUM_SEMANTIC_CLASSES + 1,))\n",
    "    return semantic_map_3d\n",
    "\n",
    "def add_hole_at_coords(semantic_map_3d, x, y, z, radius):\n",
    "    semantic_map_3d[x-radius:x+radius, y-radius:y+radius, z-radius:z+radius, :] = 0\n",
    "    return semantic_map_3d"
   ]
  },
  {
   "cell_type": "code",
   "execution_count": 106,
   "metadata": {},
   "outputs": [],
   "source": [
    "sim_cfg = map_cfg()\n",
    "semantic_map_3d = generate_semantic_map(sim_cfg, p = 0.9, dtype = bool)\n",
    "semantic_map_3d = add_hole_at_coords(semantic_map_3d, 10, 10, 10, 5)\n"
   ]
  },
  {
   "cell_type": "code",
   "execution_count": 107,
   "metadata": {},
   "outputs": [],
   "source": [
    "from src.utils.morphological_transformations import fill_holes, semantic_map_to_label_map\n",
    "from scipy.ndimage.measurements import label, find_objects\n"
   ]
  },
  {
   "cell_type": "code",
   "execution_count": 108,
   "metadata": {},
   "outputs": [],
   "source": [
    "label_map = semantic_map_to_label_map(semantic_map_3d, 0.5)\n",
    "comparator = np.greater_equal\n",
    "number_of_voxels_threshold = 5\n"
   ]
  },
  {
   "cell_type": "code",
   "execution_count": 109,
   "metadata": {},
   "outputs": [
    {
     "data": {
      "text/plain": [
       "<matplotlib.image.AxesImage at 0x7f31cc1bd910>"
      ]
     },
     "execution_count": 109,
     "metadata": {},
     "output_type": "execute_result"
    },
    {
     "data": {
      "image/png": "[encoded data removed]",
      "text/plain": [
       "<Figure size 640x480 with 1 Axes>"
      ]
     },
     "metadata": {},
     "output_type": "display_data"
    }
   ],
   "source": [
    "plt.imshow(label_map[10, :, :])"
   ]
  },
  {
   "cell_type": "code",
   "execution_count": 110,
   "metadata": {},
   "outputs": [],
   "source": [
    "# The inverted map will be 1 wherever there is no semantic object. This means that we can use find_objects to find \n",
    "# holes and fill them.\n",
    "inv_map = label_map == 0\n",
    "\n",
    "labeled_hole_map, _ = label(inv_map)\n",
    "hole_sizes = np.bincount(labeled_hole_map.flatten())[1:]\n",
    "\n",
    "small_holes = np.where(comparator(hole_sizes, number_of_voxels_threshold))[0] + 1\n",
    "hole_bounding_boxes = np.array(find_objects(labeled_hole_map))"
   ]
  },
  {
   "cell_type": "code",
   "execution_count": 111,
   "metadata": {},
   "outputs": [],
   "source": [
    "# Find the labels of components smaller than the threshold\n",
    "\n",
    "for hole_label in small_holes:\n",
    "    # Find the bounding box of the hole\n",
    "    bounding_box = hole_bounding_boxes[0]\n",
    "    # Get the labels of the voxels in the bounding box. Since the hole might be exactly rectangular, we need to\n",
    "    # first increase the bounding box by 1 in each direction to make sure we get the neighbors of the hole voxels\n",
    "    bounding_box = [slice(max(0, bounding_box[0].start - 1), min(label_map.shape[0], bounding_box[0].stop + 1)),\n",
    "                    slice(max(0, bounding_box[1].start - 1), min(label_map.shape[1], bounding_box[1].stop + 1)),\n",
    "                    slice(max(0, bounding_box[2].start - 1), min(label_map.shape[2], bounding_box[2].stop + 1))]\n",
    "\n",
    "    bounding_box_labels = label_map[bounding_box[0], bounding_box[1], bounding_box[2]].flatten()\n",
    "    labels_of_labelled_neighbors = bounding_box_labels[bounding_box_labels>0]\n",
    "    # Calculate the most frequent onehot encoding\n",
    "    most_frequent_label = np.argmax(np.bincount(labels_of_labelled_neighbors))\n",
    "\n",
    "\n",
    "    # Here, we do not need to subtract 1 from the most_frequent_label because we have the occupancy channel\n",
    "    label_map[labeled_hole_map == hole_label] = most_frequent_label"
   ]
  },
  {
   "cell_type": "code",
   "execution_count": 112,
   "metadata": {},
   "outputs": [
    {
     "data": {
      "text/plain": [
       "<matplotlib.image.AxesImage at 0x7f31cc18b510>"
      ]
     },
     "execution_count": 112,
     "metadata": {},
     "output_type": "execute_result"
    },
    {
     "data": {
      "image/png": "[encoded data removed]",
      "text/plain": [
       "<Figure size 640x480 with 1 Axes>"
      ]
     },
     "metadata": {},
     "output_type": "display_data"
    }
   ],
   "source": [
    "plt.imshow(label_map[10, :, :])"
   ]
  }
 ],
 "metadata": {
  "kernelspec": {
   "display_name": "habitat",
   "language": "python",
   "name": "python3"
  },
  "language_info": {
   "codemirror_mode": {
    "name": "ipython",
    "version": 3
   },
   "file_extension": ".py",
   "mimetype": "text/x-python",
   "name": "python",
   "nbconvert_exporter": "python",
   "pygments_lexer": "ipython3",
   "version": "3.7.16"
  },
  "orig_nbformat": 4
 },
 "nbformat": 4,
 "nbformat_minor": 2
}
